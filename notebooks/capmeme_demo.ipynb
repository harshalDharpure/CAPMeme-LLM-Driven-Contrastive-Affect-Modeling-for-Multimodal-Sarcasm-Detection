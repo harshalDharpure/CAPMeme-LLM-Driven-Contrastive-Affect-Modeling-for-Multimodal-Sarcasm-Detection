{
  "cells": [
    {
      "cell_type": "markdown",
      "metadata": {},
      "source": [
        "# CAPMeme: Multimodal Sarcasm Detection Demo\n",
        "\n",
        "This notebook demonstrates the CAPMeme model for detecting sarcasm, persuasion, and harm in memes using multimodal analysis with Contrastive Affective Pretraining.\n"
      ]
    },
    {
      "cell_type": "code",
      "execution_count": null,
      "metadata": {},
      "outputs": [],
      "source": [
        "import torch\n",
        "import numpy as np\n",
        "import matplotlib.pyplot as plt\n",
        "import seaborn as sns\n",
        "from PIL import Image\n",
        "import json\n",
        "import yaml\n",
        "\n",
        "# Import CAPMeme components\n",
        "from models.capmeme import CAPMeme\n",
        "from data.dataset import MemeDataset\n",
        "from evaluation.metrics import CAPMemeEvaluator\n",
        "from utils.config import load_config, setup_device\n",
        "\n",
        "# Set style\n",
        "plt.style.use('seaborn-v0_8')\n",
        "sns.set_palette(\"husl\")\n"
      ]
    }
  ],
  "metadata": {
    "language_info": {
      "name": "python"
    }
  },
  "nbformat": 4,
  "nbformat_minor": 2
}
